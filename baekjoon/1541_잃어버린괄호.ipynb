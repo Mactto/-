{
 "cells": [
  {
   "cell_type": "markdown",
   "metadata": {},
   "source": [
    "## 문제\n",
    "세준이는 양수와 +, -, 그리고 괄호를 가지고 식을 만들었다. 그리고 나서 세준이는 괄호를 모두 지웠다.\n",
    "\n",
    "그리고 나서 세준이는 괄호를 적절히 쳐서 이 식의 값을 최소로 만들려고 한다.\n",
    "\n",
    "괄호를 적절히 쳐서 이 식의 값을 최소로 만드는 프로그램을 작성하시오.\n",
    "\n",
    "## 입력\n",
    "첫째 줄에 식이 주어진다. 식은 ‘0’~‘9’, ‘+’, 그리고 ‘-’만으로 이루어져 있고, 가장 처음과 마지막 문자는 숫자이다. 그리고 연속해서 두 개 이상의 연산자가 나타나지 않고, 5자리보다 많이 연속되는 숫자는 없다. 수는 0으로 시작할 수 있다. 입력으로 주어지는 식의 길이는 50보다 작거나 같다.\n",
    "\n",
    "## 출력\n",
    "첫째 줄에 정답을 출력한다.\n",
    "\n",
    "---"
   ]
  },
  {
   "cell_type": "code",
   "execution_count": 62,
   "metadata": {},
   "outputs": [
    {
     "name": "stdout",
     "output_type": "stream",
     "text": [
      "-5-3+5-3\n",
      "-16\n"
     ]
    }
   ],
   "source": [
    "def check(f):\n",
    "    if '+' in f: return True\n",
    "    else: return False\n",
    "\n",
    "def algorithm():\n",
    "    global sp, first\n",
    "    if sp[0] == '':\n",
    "        sp.pop(0)\n",
    "        result = 0\n",
    "    else:\n",
    "        if check(sp[0]):\n",
    "            result = eval(sp.pop(0))\n",
    "        else:\n",
    "            result = int(sp.pop(0))\n",
    "    \n",
    "    for s in sp:\n",
    "        if check(s):\n",
    "            result -= eval(s)\n",
    "        else:\n",
    "            result -= int(s)\n",
    "    return result\n",
    "        \n",
    "if __name__ == \"__main__\":\n",
    "    fomula = input()\n",
    "    sp = fomula.split('-')\n",
    "    print(algorithm())"
   ]
  },
  {
   "cell_type": "code",
   "execution_count": null,
   "metadata": {},
   "outputs": [],
   "source": []
  }
 ],
 "metadata": {
  "kernelspec": {
   "display_name": "Python 3",
   "language": "python",
   "name": "python3"
  },
  "language_info": {
   "codemirror_mode": {
    "name": "ipython",
    "version": 3
   },
   "file_extension": ".py",
   "mimetype": "text/x-python",
   "name": "python",
   "nbconvert_exporter": "python",
   "pygments_lexer": "ipython3",
   "version": "3.7.9"
  }
 },
 "nbformat": 4,
 "nbformat_minor": 4
}
